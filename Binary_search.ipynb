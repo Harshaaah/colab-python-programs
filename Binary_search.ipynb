{
  "nbformat": 4,
  "nbformat_minor": 0,
  "metadata": {
    "colab": {
      "provenance": [],
      "authorship_tag": "ABX9TyNK6JsdRi3+lqfL+dlbyfpA",
      "include_colab_link": true
    },
    "kernelspec": {
      "name": "python3",
      "display_name": "Python 3"
    },
    "language_info": {
      "name": "python"
    }
  },
  "cells": [
    {
      "cell_type": "markdown",
      "metadata": {
        "id": "view-in-github",
        "colab_type": "text"
      },
      "source": [
        "<a href=\"https://colab.research.google.com/github/Harshaaah/colab-python-programs/blob/main/Binary_search.ipynb\" target=\"_parent\"><img src=\"https://colab.research.google.com/assets/colab-badge.svg\" alt=\"Open In Colab\"/></a>"
      ]
    },
    {
      "cell_type": "code",
      "execution_count": null,
      "metadata": {
        "id": "S5C-quN21Exr",
        "outputId": "121057a3-fc2e-4902-adaf-2ad7811b4b73",
        "colab": {
          "base_uri": "https://localhost:8080/"
        }
      },
      "outputs": [
        {
          "output_type": "stream",
          "name": "stdout",
          "text": [
            "1\n",
            "None\n"
          ]
        }
      ],
      "source": [
        "# prompt: binary search\n",
        "\n",
        "def binary_search(list, item):\n",
        "  # low and high keep track of which part of the list you'll search in.\n",
        "  low = 0\n",
        "  high = len(list) - 1\n",
        "\n",
        "  # While you haven't narrowed it down to one element ...\n",
        "  while low <= high:\n",
        "    # ... check the middle element\n",
        "    mid = (low + high) // 2\n",
        "    guess = list[mid]\n",
        "    # Found the item.\n",
        "    if guess == item:\n",
        "      return mid\n",
        "    # The guess was too high.\n",
        "    if guess > item:\n",
        "      high = mid - 1\n",
        "    # The guess was too low.\n",
        "    else:\n",
        "      low = mid + 1\n",
        "  # Item doesn't exist\n",
        "  return None\n",
        "\n",
        "my_list = [1, 3, 5, 7, 9]\n",
        "print (binary_search(my_list, 3)) # => 1\n",
        "print (binary_search(my_list, -1)) # => None"
      ]
    }
  ]
}