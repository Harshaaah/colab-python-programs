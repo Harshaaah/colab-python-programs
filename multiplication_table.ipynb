{
  "nbformat": 4,
  "nbformat_minor": 0,
  "metadata": {
    "colab": {
      "provenance": [],
      "authorship_tag": "ABX9TyPdzleDyfm9LKMCD4j+TAVk",
      "include_colab_link": true
    },
    "kernelspec": {
      "name": "python3",
      "display_name": "Python 3"
    },
    "language_info": {
      "name": "python"
    }
  },
  "cells": [
    {
      "cell_type": "markdown",
      "metadata": {
        "id": "view-in-github",
        "colab_type": "text"
      },
      "source": [
        "<a href=\"https://colab.research.google.com/github/Harshaaah/colab-python-programs/blob/main/multiplication_table.ipynb\" target=\"_parent\"><img src=\"https://colab.research.google.com/assets/colab-badge.svg\" alt=\"Open In Colab\"/></a>"
      ]
    },
    {
      "cell_type": "code",
      "execution_count": 3,
      "metadata": {
        "colab": {
          "base_uri": "https://localhost:8080/"
        },
        "id": "TdrTD80r2rGg",
        "outputId": "2e1586c0-d162-400b-c664-1e20591d06a7"
      },
      "outputs": [
        {
          "output_type": "stream",
          "name": "stdout",
          "text": [
            "100 x 1 = 100\n",
            "100 x 2 = 200\n",
            "100 x 3 = 300\n",
            "100 x 4 = 400\n",
            "100 x 5 = 500\n",
            "100 x 6 = 600\n",
            "100 x 7 = 700\n",
            "100 x 8 = 800\n",
            "100 x 9 = 900\n",
            "100 x 10 = 1000\n"
          ]
        }
      ],
      "source": [
        "# prompt: multiplication table of 100\n",
        "\n",
        "for i in range(1,11):\n",
        "  print(f\"100 x {i} = {100*i}\")"
      ]
    }
  ]
}